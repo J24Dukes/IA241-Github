{
 "cells": [
  {
   "cell_type": "markdown",
   "id": "2b09bb3f",
   "metadata": {},
   "source": [
    "# Germany COVID-19 Data "
   ]
  },
  {
   "cell_type": "markdown",
   "id": "d1d1fe88",
   "metadata": {},
   "source": [
    "![Germany_Covid](https://cdn.se-legal.de/wp-content/uploads/2020/03/corona-virus-germany-symbolimage.jpg)"
   ]
  },
  {
   "cell_type": "markdown",
   "id": "aebebfbe",
   "metadata": {},
   "source": [
    "# COVID-19 Background"
   ]
  },
  {
   "cell_type": "markdown",
   "id": "80f1ebfe",
   "metadata": {},
   "source": [
    "COVID-19 is a contagious disease which causes fever, cough, headache, breathing issues, loss of smell/taste, and death. The disease was first observed in December of 2019 in Wuhan, China. COVID-19 ultimately became a global health issue as it moved quickly across the globe from Air, Sea, and Land travel. Part of the globl community, Germany too has been affected by this global virus. "
   ]
  },
  {
   "cell_type": "markdown",
   "id": "fe181c62",
   "metadata": {},
   "source": [
    "# Data Source"
   ]
  },
  {
   "cell_type": "markdown",
   "id": "26076258",
   "metadata": {},
   "source": [
    "The data is from the [European Centre for Disease Prevention and Control](https://www.ecdc.europa.eu/en/publications-data/download-todays-data-geographic-distribution-covid-19-cases-worldwide)"
   ]
  },
  {
   "cell_type": "code",
   "execution_count": 1,
   "id": "8778450e",
   "metadata": {},
   "outputs": [
    {
     "name": "stderr",
     "output_type": "stream",
     "text": [
      "Matplotlib is building the font cache; this may take a moment.\n"
     ]
    }
   ],
   "source": [
    "%matplotlib inline\n",
    "import pandas"
   ]
  },
  {
   "cell_type": "markdown",
   "id": "08879e22",
   "metadata": {},
   "source": [
    "# A quick view of the data"
   ]
  },
  {
   "cell_type": "code",
   "execution_count": 2,
   "id": "a8a3ba86",
   "metadata": {},
   "outputs": [
    {
     "data": {
      "text/html": [
       "<div>\n",
       "<style scoped>\n",
       "    .dataframe tbody tr th:only-of-type {\n",
       "        vertical-align: middle;\n",
       "    }\n",
       "\n",
       "    .dataframe tbody tr th {\n",
       "        vertical-align: top;\n",
       "    }\n",
       "\n",
       "    .dataframe thead th {\n",
       "        text-align: right;\n",
       "    }\n",
       "</style>\n",
       "<table border=\"1\" class=\"dataframe\">\n",
       "  <thead>\n",
       "    <tr style=\"text-align: right;\">\n",
       "      <th></th>\n",
       "      <th>dateRep</th>\n",
       "      <th>day</th>\n",
       "      <th>month</th>\n",
       "      <th>year</th>\n",
       "      <th>cases</th>\n",
       "      <th>deaths</th>\n",
       "      <th>countriesAndTerritories</th>\n",
       "      <th>geoId</th>\n",
       "      <th>countryterritoryCode</th>\n",
       "      <th>popData2019</th>\n",
       "      <th>continentExp</th>\n",
       "      <th>Cumulative_number_for_14_days_of_COVID-19_cases_per_100000</th>\n",
       "    </tr>\n",
       "  </thead>\n",
       "  <tbody>\n",
       "    <tr>\n",
       "      <th>0</th>\n",
       "      <td>2020-12-14</td>\n",
       "      <td>14</td>\n",
       "      <td>12</td>\n",
       "      <td>2020</td>\n",
       "      <td>746</td>\n",
       "      <td>6</td>\n",
       "      <td>Afghanistan</td>\n",
       "      <td>AF</td>\n",
       "      <td>AFG</td>\n",
       "      <td>38041757.0</td>\n",
       "      <td>Asia</td>\n",
       "      <td>9.013779</td>\n",
       "    </tr>\n",
       "    <tr>\n",
       "      <th>1</th>\n",
       "      <td>2020-12-13</td>\n",
       "      <td>13</td>\n",
       "      <td>12</td>\n",
       "      <td>2020</td>\n",
       "      <td>298</td>\n",
       "      <td>9</td>\n",
       "      <td>Afghanistan</td>\n",
       "      <td>AF</td>\n",
       "      <td>AFG</td>\n",
       "      <td>38041757.0</td>\n",
       "      <td>Asia</td>\n",
       "      <td>7.052776</td>\n",
       "    </tr>\n",
       "    <tr>\n",
       "      <th>2</th>\n",
       "      <td>2020-12-12</td>\n",
       "      <td>12</td>\n",
       "      <td>12</td>\n",
       "      <td>2020</td>\n",
       "      <td>113</td>\n",
       "      <td>11</td>\n",
       "      <td>Afghanistan</td>\n",
       "      <td>AF</td>\n",
       "      <td>AFG</td>\n",
       "      <td>38041757.0</td>\n",
       "      <td>Asia</td>\n",
       "      <td>6.868768</td>\n",
       "    </tr>\n",
       "    <tr>\n",
       "      <th>3</th>\n",
       "      <td>2020-12-11</td>\n",
       "      <td>11</td>\n",
       "      <td>12</td>\n",
       "      <td>2020</td>\n",
       "      <td>63</td>\n",
       "      <td>10</td>\n",
       "      <td>Afghanistan</td>\n",
       "      <td>AF</td>\n",
       "      <td>AFG</td>\n",
       "      <td>38041757.0</td>\n",
       "      <td>Asia</td>\n",
       "      <td>7.134266</td>\n",
       "    </tr>\n",
       "    <tr>\n",
       "      <th>4</th>\n",
       "      <td>2020-12-10</td>\n",
       "      <td>10</td>\n",
       "      <td>12</td>\n",
       "      <td>2020</td>\n",
       "      <td>202</td>\n",
       "      <td>16</td>\n",
       "      <td>Afghanistan</td>\n",
       "      <td>AF</td>\n",
       "      <td>AFG</td>\n",
       "      <td>38041757.0</td>\n",
       "      <td>Asia</td>\n",
       "      <td>6.968658</td>\n",
       "    </tr>\n",
       "    <tr>\n",
       "      <th>5</th>\n",
       "      <td>2020-12-09</td>\n",
       "      <td>9</td>\n",
       "      <td>12</td>\n",
       "      <td>2020</td>\n",
       "      <td>135</td>\n",
       "      <td>13</td>\n",
       "      <td>Afghanistan</td>\n",
       "      <td>AF</td>\n",
       "      <td>AFG</td>\n",
       "      <td>38041757.0</td>\n",
       "      <td>Asia</td>\n",
       "      <td>6.963401</td>\n",
       "    </tr>\n",
       "    <tr>\n",
       "      <th>6</th>\n",
       "      <td>2020-12-08</td>\n",
       "      <td>8</td>\n",
       "      <td>12</td>\n",
       "      <td>2020</td>\n",
       "      <td>200</td>\n",
       "      <td>6</td>\n",
       "      <td>Afghanistan</td>\n",
       "      <td>AF</td>\n",
       "      <td>AFG</td>\n",
       "      <td>38041757.0</td>\n",
       "      <td>Asia</td>\n",
       "      <td>7.094835</td>\n",
       "    </tr>\n",
       "    <tr>\n",
       "      <th>7</th>\n",
       "      <td>2020-12-07</td>\n",
       "      <td>7</td>\n",
       "      <td>12</td>\n",
       "      <td>2020</td>\n",
       "      <td>210</td>\n",
       "      <td>26</td>\n",
       "      <td>Afghanistan</td>\n",
       "      <td>AF</td>\n",
       "      <td>AFG</td>\n",
       "      <td>38041757.0</td>\n",
       "      <td>Asia</td>\n",
       "      <td>7.215755</td>\n",
       "    </tr>\n",
       "    <tr>\n",
       "      <th>8</th>\n",
       "      <td>2020-12-06</td>\n",
       "      <td>6</td>\n",
       "      <td>12</td>\n",
       "      <td>2020</td>\n",
       "      <td>234</td>\n",
       "      <td>10</td>\n",
       "      <td>Afghanistan</td>\n",
       "      <td>AF</td>\n",
       "      <td>AFG</td>\n",
       "      <td>38041757.0</td>\n",
       "      <td>Asia</td>\n",
       "      <td>7.326160</td>\n",
       "    </tr>\n",
       "    <tr>\n",
       "      <th>9</th>\n",
       "      <td>2020-12-05</td>\n",
       "      <td>5</td>\n",
       "      <td>12</td>\n",
       "      <td>2020</td>\n",
       "      <td>235</td>\n",
       "      <td>18</td>\n",
       "      <td>Afghanistan</td>\n",
       "      <td>AF</td>\n",
       "      <td>AFG</td>\n",
       "      <td>38041757.0</td>\n",
       "      <td>Asia</td>\n",
       "      <td>7.115865</td>\n",
       "    </tr>\n",
       "  </tbody>\n",
       "</table>\n",
       "</div>"
      ],
      "text/plain": [
       "     dateRep  day  month  year  cases  deaths countriesAndTerritories geoId  \\\n",
       "0 2020-12-14   14     12  2020    746       6             Afghanistan    AF   \n",
       "1 2020-12-13   13     12  2020    298       9             Afghanistan    AF   \n",
       "2 2020-12-12   12     12  2020    113      11             Afghanistan    AF   \n",
       "3 2020-12-11   11     12  2020     63      10             Afghanistan    AF   \n",
       "4 2020-12-10   10     12  2020    202      16             Afghanistan    AF   \n",
       "5 2020-12-09    9     12  2020    135      13             Afghanistan    AF   \n",
       "6 2020-12-08    8     12  2020    200       6             Afghanistan    AF   \n",
       "7 2020-12-07    7     12  2020    210      26             Afghanistan    AF   \n",
       "8 2020-12-06    6     12  2020    234      10             Afghanistan    AF   \n",
       "9 2020-12-05    5     12  2020    235      18             Afghanistan    AF   \n",
       "\n",
       "  countryterritoryCode  popData2019 continentExp  \\\n",
       "0                  AFG   38041757.0         Asia   \n",
       "1                  AFG   38041757.0         Asia   \n",
       "2                  AFG   38041757.0         Asia   \n",
       "3                  AFG   38041757.0         Asia   \n",
       "4                  AFG   38041757.0         Asia   \n",
       "5                  AFG   38041757.0         Asia   \n",
       "6                  AFG   38041757.0         Asia   \n",
       "7                  AFG   38041757.0         Asia   \n",
       "8                  AFG   38041757.0         Asia   \n",
       "9                  AFG   38041757.0         Asia   \n",
       "\n",
       "   Cumulative_number_for_14_days_of_COVID-19_cases_per_100000  \n",
       "0                                           9.013779           \n",
       "1                                           7.052776           \n",
       "2                                           6.868768           \n",
       "3                                           7.134266           \n",
       "4                                           6.968658           \n",
       "5                                           6.963401           \n",
       "6                                           7.094835           \n",
       "7                                           7.215755           \n",
       "8                                           7.326160           \n",
       "9                                           7.115865           "
      ]
     },
     "execution_count": 2,
     "metadata": {},
     "output_type": "execute_result"
    }
   ],
   "source": [
    "df = pandas.read_excel('s3://kellyia241spring2022/COVID-19-geographic-disbtribution-worldwide.xlsx')\n",
    "df[:10]"
   ]
  },
  {
   "cell_type": "markdown",
   "id": "defca848",
   "metadata": {},
   "source": [
    "This is a small look at the data collected by the ECDC"
   ]
  },
  {
   "cell_type": "markdown",
   "id": "7f8e03cb",
   "metadata": {},
   "source": [
    "# Germany's COVID-19 Data"
   ]
  },
  {
   "cell_type": "markdown",
   "id": "b0cc05fe",
   "metadata": {},
   "source": [
    "Below is a portion of the data collected by the ECDC on Germany. This was accomplished by only pulling \"Italy\" out of the \"CountriesAndTerritories\" column. "
   ]
  },
  {
   "cell_type": "code",
   "execution_count": 3,
   "id": "c9adc278",
   "metadata": {},
   "outputs": [
    {
     "data": {
      "text/html": [
       "<div>\n",
       "<style scoped>\n",
       "    .dataframe tbody tr th:only-of-type {\n",
       "        vertical-align: middle;\n",
       "    }\n",
       "\n",
       "    .dataframe tbody tr th {\n",
       "        vertical-align: top;\n",
       "    }\n",
       "\n",
       "    .dataframe thead th {\n",
       "        text-align: right;\n",
       "    }\n",
       "</style>\n",
       "<table border=\"1\" class=\"dataframe\">\n",
       "  <thead>\n",
       "    <tr style=\"text-align: right;\">\n",
       "      <th></th>\n",
       "      <th>dateRep</th>\n",
       "      <th>day</th>\n",
       "      <th>month</th>\n",
       "      <th>year</th>\n",
       "      <th>cases</th>\n",
       "      <th>deaths</th>\n",
       "      <th>countriesAndTerritories</th>\n",
       "      <th>geoId</th>\n",
       "      <th>countryterritoryCode</th>\n",
       "      <th>popData2019</th>\n",
       "      <th>continentExp</th>\n",
       "      <th>Cumulative_number_for_14_days_of_COVID-19_cases_per_100000</th>\n",
       "    </tr>\n",
       "  </thead>\n",
       "  <tbody>\n",
       "    <tr>\n",
       "      <th>21880</th>\n",
       "      <td>2020-12-14</td>\n",
       "      <td>14</td>\n",
       "      <td>12</td>\n",
       "      <td>2020</td>\n",
       "      <td>16362</td>\n",
       "      <td>188</td>\n",
       "      <td>Germany</td>\n",
       "      <td>DE</td>\n",
       "      <td>DEU</td>\n",
       "      <td>83019213.0</td>\n",
       "      <td>Europe</td>\n",
       "      <td>341.136696</td>\n",
       "    </tr>\n",
       "    <tr>\n",
       "      <th>21881</th>\n",
       "      <td>2020-12-13</td>\n",
       "      <td>13</td>\n",
       "      <td>12</td>\n",
       "      <td>2020</td>\n",
       "      <td>20200</td>\n",
       "      <td>321</td>\n",
       "      <td>Germany</td>\n",
       "      <td>DE</td>\n",
       "      <td>DEU</td>\n",
       "      <td>83019213.0</td>\n",
       "      <td>Europe</td>\n",
       "      <td>334.881517</td>\n",
       "    </tr>\n",
       "    <tr>\n",
       "      <th>21882</th>\n",
       "      <td>2020-12-12</td>\n",
       "      <td>12</td>\n",
       "      <td>12</td>\n",
       "      <td>2020</td>\n",
       "      <td>28438</td>\n",
       "      <td>496</td>\n",
       "      <td>Germany</td>\n",
       "      <td>DE</td>\n",
       "      <td>DEU</td>\n",
       "      <td>83019213.0</td>\n",
       "      <td>Europe</td>\n",
       "      <td>328.149341</td>\n",
       "    </tr>\n",
       "    <tr>\n",
       "      <th>21883</th>\n",
       "      <td>2020-12-11</td>\n",
       "      <td>11</td>\n",
       "      <td>12</td>\n",
       "      <td>2020</td>\n",
       "      <td>29875</td>\n",
       "      <td>598</td>\n",
       "      <td>Germany</td>\n",
       "      <td>DE</td>\n",
       "      <td>DEU</td>\n",
       "      <td>83019213.0</td>\n",
       "      <td>Europe</td>\n",
       "      <td>320.027124</td>\n",
       "    </tr>\n",
       "    <tr>\n",
       "      <th>21884</th>\n",
       "      <td>2020-12-10</td>\n",
       "      <td>10</td>\n",
       "      <td>12</td>\n",
       "      <td>2020</td>\n",
       "      <td>23679</td>\n",
       "      <td>440</td>\n",
       "      <td>Germany</td>\n",
       "      <td>DE</td>\n",
       "      <td>DEU</td>\n",
       "      <td>83019213.0</td>\n",
       "      <td>Europe</td>\n",
       "      <td>311.512228</td>\n",
       "    </tr>\n",
       "    <tr>\n",
       "      <th>21885</th>\n",
       "      <td>2020-12-09</td>\n",
       "      <td>9</td>\n",
       "      <td>12</td>\n",
       "      <td>2020</td>\n",
       "      <td>20815</td>\n",
       "      <td>590</td>\n",
       "      <td>Germany</td>\n",
       "      <td>DE</td>\n",
       "      <td>DEU</td>\n",
       "      <td>83019213.0</td>\n",
       "      <td>Europe</td>\n",
       "      <td>309.812621</td>\n",
       "    </tr>\n",
       "    <tr>\n",
       "      <th>21886</th>\n",
       "      <td>2020-12-08</td>\n",
       "      <td>8</td>\n",
       "      <td>12</td>\n",
       "      <td>2020</td>\n",
       "      <td>14055</td>\n",
       "      <td>423</td>\n",
       "      <td>Germany</td>\n",
       "      <td>DE</td>\n",
       "      <td>DEU</td>\n",
       "      <td>83019213.0</td>\n",
       "      <td>Europe</td>\n",
       "      <td>307.184314</td>\n",
       "    </tr>\n",
       "    <tr>\n",
       "      <th>21887</th>\n",
       "      <td>2020-12-07</td>\n",
       "      <td>7</td>\n",
       "      <td>12</td>\n",
       "      <td>2020</td>\n",
       "      <td>12332</td>\n",
       "      <td>147</td>\n",
       "      <td>Germany</td>\n",
       "      <td>DE</td>\n",
       "      <td>DEU</td>\n",
       "      <td>83019213.0</td>\n",
       "      <td>Europe</td>\n",
       "      <td>306.580839</td>\n",
       "    </tr>\n",
       "    <tr>\n",
       "      <th>21888</th>\n",
       "      <td>2020-12-06</td>\n",
       "      <td>6</td>\n",
       "      <td>12</td>\n",
       "      <td>2020</td>\n",
       "      <td>17767</td>\n",
       "      <td>255</td>\n",
       "      <td>Germany</td>\n",
       "      <td>DE</td>\n",
       "      <td>DEU</td>\n",
       "      <td>83019213.0</td>\n",
       "      <td>Europe</td>\n",
       "      <td>304.812574</td>\n",
       "    </tr>\n",
       "    <tr>\n",
       "      <th>21889</th>\n",
       "      <td>2020-12-05</td>\n",
       "      <td>5</td>\n",
       "      <td>12</td>\n",
       "      <td>2020</td>\n",
       "      <td>23318</td>\n",
       "      <td>483</td>\n",
       "      <td>Germany</td>\n",
       "      <td>DE</td>\n",
       "      <td>DEU</td>\n",
       "      <td>83019213.0</td>\n",
       "      <td>Europe</td>\n",
       "      <td>302.372175</td>\n",
       "    </tr>\n",
       "  </tbody>\n",
       "</table>\n",
       "</div>"
      ],
      "text/plain": [
       "         dateRep  day  month  year  cases  deaths countriesAndTerritories  \\\n",
       "21880 2020-12-14   14     12  2020  16362     188                 Germany   \n",
       "21881 2020-12-13   13     12  2020  20200     321                 Germany   \n",
       "21882 2020-12-12   12     12  2020  28438     496                 Germany   \n",
       "21883 2020-12-11   11     12  2020  29875     598                 Germany   \n",
       "21884 2020-12-10   10     12  2020  23679     440                 Germany   \n",
       "21885 2020-12-09    9     12  2020  20815     590                 Germany   \n",
       "21886 2020-12-08    8     12  2020  14055     423                 Germany   \n",
       "21887 2020-12-07    7     12  2020  12332     147                 Germany   \n",
       "21888 2020-12-06    6     12  2020  17767     255                 Germany   \n",
       "21889 2020-12-05    5     12  2020  23318     483                 Germany   \n",
       "\n",
       "      geoId countryterritoryCode  popData2019 continentExp  \\\n",
       "21880    DE                  DEU   83019213.0       Europe   \n",
       "21881    DE                  DEU   83019213.0       Europe   \n",
       "21882    DE                  DEU   83019213.0       Europe   \n",
       "21883    DE                  DEU   83019213.0       Europe   \n",
       "21884    DE                  DEU   83019213.0       Europe   \n",
       "21885    DE                  DEU   83019213.0       Europe   \n",
       "21886    DE                  DEU   83019213.0       Europe   \n",
       "21887    DE                  DEU   83019213.0       Europe   \n",
       "21888    DE                  DEU   83019213.0       Europe   \n",
       "21889    DE                  DEU   83019213.0       Europe   \n",
       "\n",
       "       Cumulative_number_for_14_days_of_COVID-19_cases_per_100000  \n",
       "21880                                         341.136696           \n",
       "21881                                         334.881517           \n",
       "21882                                         328.149341           \n",
       "21883                                         320.027124           \n",
       "21884                                         311.512228           \n",
       "21885                                         309.812621           \n",
       "21886                                         307.184314           \n",
       "21887                                         306.580839           \n",
       "21888                                         304.812574           \n",
       "21889                                         302.372175           "
      ]
     },
     "execution_count": 3,
     "metadata": {},
     "output_type": "execute_result"
    }
   ],
   "source": [
    "Germany_data = df.loc[ df['countriesAndTerritories']=='Germany' ]\n",
    "Germany_data[:10]"
   ]
  },
  {
   "cell_type": "markdown",
   "id": "245e0b84",
   "metadata": {},
   "source": [
    "# What is the trend of COVID-19 in Germany over the dataset? "
   ]
  },
  {
   "cell_type": "code",
   "execution_count": 4,
   "id": "031d5a6e",
   "metadata": {},
   "outputs": [
    {
     "data": {
      "text/plain": [
       "<AxesSubplot:xlabel='dateRep'>"
      ]
     },
     "execution_count": 4,
     "metadata": {},
     "output_type": "execute_result"
    },
    {
     "data": {
      "image/png": "[encoded data removed]",
      "text/plain": [
       "<Figure size 432x288 with 1 Axes>"
      ]
     },
     "metadata": {
      "needs_background": "light"
     },
     "output_type": "display_data"
    }
   ],
   "source": [
    "covid_cases_over_time = Germany_data.groupby('dateRep').sum()['cases']\n",
    "covid_cases_over_time.plot()"
   ]
  },
  {
   "cell_type": "markdown",
   "id": "80e29b00",
   "metadata": {},
   "source": [
    "As seen in the graph, Germany experienced a large spike in COVID-19 cases at the end of October. This was accomplished by grouping by the sum of the dateRep of the 'cases' and assigning it to the variable sum_cases_per_day."
   ]
  },
  {
   "cell_type": "markdown",
   "id": "c7e5d1ef",
   "metadata": {},
   "source": [
    "# What is the trend of COVID-19 Deaths in Germany over the dataset?"
   ]
  },
  {
   "cell_type": "code",
   "execution_count": 5,
   "id": "8dc2a3a3",
   "metadata": {},
   "outputs": [
    {
     "data": {
      "text/plain": [
       "<AxesSubplot:xlabel='dateRep'>"
      ]
     },
     "execution_count": 5,
     "metadata": {},
     "output_type": "execute_result"
    },
    {
     "data": {
      "image/png": "[encoded data removed]",
      "text/plain": [
       "<Figure size 432x288 with 1 Axes>"
      ]
     },
     "metadata": {
      "needs_background": "light"
     },
     "output_type": "display_data"
    }
   ],
   "source": [
    "covid_deaths_over_time = Germany_data.groupby('dateRep').sum()['deaths']\n",
    "covid_deaths_over_time.plot()"
   ]
  },
  {
   "cell_type": "markdown",
   "id": "2020c022",
   "metadata": {},
   "source": [
    "As seen in the graph, COVID-19 deaths in Germany are closely related to the overall number of cases during the timeframe of the dataset, one year. This was found by crossreferencing the date of death to amount of deaths."
   ]
  },
  {
   "cell_type": "markdown",
   "id": "ccd8c45c",
   "metadata": {},
   "source": [
    "# How many total deaths has Germany had over the dataset?\n"
   ]
  },
  {
   "cell_type": "code",
   "execution_count": 7,
   "id": "40635662",
   "metadata": {},
   "outputs": [
    {
     "name": "stderr",
     "output_type": "stream",
     "text": [
      "/tmp/ipykernel_8587/4064378856.py:1: FutureWarning: Dropping of nuisance columns in DataFrame reductions (with 'numeric_only=None') is deprecated; in a future version this will raise TypeError.  Select only valid columns before calling the reduction.\n",
      "  Germany_data.sum()['deaths']\n"
     ]
    },
    {
     "data": {
      "text/plain": [
       "21975"
      ]
     },
     "execution_count": 7,
     "metadata": {},
     "output_type": "execute_result"
    }
   ],
   "source": [
    "Germany_data.sum()['deaths']"
   ]
  },
  {
   "cell_type": "markdown",
   "id": "ba3f168f",
   "metadata": {},
   "source": [
    "Germany has reported 21,975 deaths over the dataset which is one year. This data was found by taking the sum of deaths over the dataset and putting them together."
   ]
  },
  {
   "cell_type": "markdown",
   "id": "82bbcbfd",
   "metadata": {},
   "source": [
    "# Conclusions and Limitations"
   ]
  },
  {
   "cell_type": "markdown",
   "id": "0770ed2e",
   "metadata": {},
   "source": [
    "Although the nation of Germany had a spike of COVID-19 cases and death going into the last months of 2020 it is unsure if the trend line continues to behave this way. Having data for the next year would be interesting as it would allow us to see if the trend continues and if the next years data appears the same, with a small spike in April then a decrease, ultimately spiking again in October."
   ]
  },
  {
   "cell_type": "code",
   "execution_count": null,
   "id": "b6620ab5",
   "metadata": {},
   "outputs": [],
   "source": []
  }
 ],
 "metadata": {
  "kernelspec": {
   "display_name": "conda_python3",
   "language": "python",
   "name": "conda_python3"
  },
  "language_info": {
   "codemirror_mode": {
    "name": "ipython",
    "version": 3
   },
   "file_extension": ".py",
   "mimetype": "text/x-python",
   "name": "python",
   "nbconvert_exporter": "python",
   "pygments_lexer": "ipython3",
   "version": "3.8.12"
  }
 },
 "nbformat": 4,
 "nbformat_minor": 5
}
